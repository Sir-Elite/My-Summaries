{
 "cells": [
  {
   "cell_type": "markdown",
   "metadata": {},
   "source": [
    "# Neural Networks"
   ]
  },
  {
   "cell_type": "markdown",
   "metadata": {},
   "source": [
    "<img align=\"left\" src= \"./images/Performance vs Amount of Data with AI.JPG\"    style=\" width:675px;padding: 10px; \" >\n",
    "\n",
    "Neural network was firstly invented with algorithms to mimic the biological brains. It is used in speach recognition, computer vision, natural language processing, recommender systems, and more. Today we can know that the artificial neural network is an oversimplified model of the biological neural network. Till today, the neuroscientists still making breakthroughs in analysing how the biological brains work, and the machine learning scientists are working with engineering principles to improve the neural networks' structures.\n",
    "\n",
    "\n",
    "Traditional AI means models like linear regression and logistic regression. These tradional AI models cannot get use of the amounts of data given after certain level to improve performance as neural networks. That is why neural networks are getting more popular in various fields. The bigger the neural network ism the more it can improve the performance and making a use of big data."
   ]
  },
  {
   "cell_type": "markdown",
   "metadata": {},
   "source": []
  }
 ],
 "metadata": {
  "language_info": {
   "name": "python"
  }
 },
 "nbformat": 4,
 "nbformat_minor": 2
}
